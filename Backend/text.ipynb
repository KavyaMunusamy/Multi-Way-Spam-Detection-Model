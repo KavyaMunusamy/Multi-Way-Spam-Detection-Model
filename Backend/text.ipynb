{
 "cells": [
  {
   "cell_type": "code",
   "execution_count": 9,
   "metadata": {},
   "outputs": [
    {
     "name": "stdout",
     "output_type": "stream",
     "text": [
      "Accuracy: 0.9677033492822966\n",
      "Classification Report:\n",
      "              precision    recall  f1-score   support\n",
      "\n",
      "           0       0.96      1.00      0.98      1453\n",
      "           1       1.00      0.75      0.86       219\n",
      "\n",
      "    accuracy                           0.97      1672\n",
      "   macro avg       0.98      0.88      0.92      1672\n",
      "weighted avg       0.97      0.97      0.97      1672\n",
      "\n",
      "Text: Congratulations! You've won a free iPhone. Click here to claim your prize.\n",
      "Prediction: Spam\n",
      "\n",
      "Text: Hello, let's catch up for coffee sometime this weekend!\n",
      "Prediction: Ham\n",
      "\n",
      "✅ Model trained and saved at C:\\Users\\Dharshii\\OneDrive\\Desktop\\samp\\backend\\spam_classifier.pkl\n"
     ]
    }
   ],
   "source": [
    "# Step 1: Import necessary libraries\n",
    "import pandas as pd\n",
    "import joblib  # Import joblib for model saving\n",
    "from sklearn.model_selection import train_test_split\n",
    "from sklearn.feature_extraction.text import CountVectorizer, TfidfTransformer\n",
    "from sklearn.naive_bayes import MultinomialNB\n",
    "from sklearn.pipeline import Pipeline\n",
    "from sklearn.metrics import classification_report, accuracy_score\n",
    "\n",
    "# Step 2: Load the dataset\n",
    "data = pd.read_csv(r\"C:\\Users\\Dharshii\\OneDrive\\Desktop\\samp\\backend\\spams.csv\", encoding=\"latin-1\")\n",
    "data = data[['v1', 'v2']]  # Keep only 'label' and 'text' columns\n",
    "data.columns = ['label', 'text']  # Rename columns for clarity\n",
    "\n",
    "# Step 3: Preprocess the data (Label encoding: spam=1, ham=0)\n",
    "data['label'] = data['label'].map({'spam': 1, 'ham': 0})\n",
    "\n",
    "# Step 4: Split the dataset into training and testing sets\n",
    "X_train, X_test, y_train, y_test = train_test_split(data['text'], data['label'], test_size=0.3, random_state=42)\n",
    "\n",
    "# Step 5: Build the text classification pipeline\n",
    "text_clf = Pipeline([\n",
    "    ('vect', CountVectorizer(stop_words='english')),\n",
    "    ('tfidf', TfidfTransformer()),\n",
    "    ('clf', MultinomialNB())\n",
    "])\n",
    "\n",
    "# Step 6: Train the classifier\n",
    "text_clf.fit(X_train, y_train)\n",
    "\n",
    "# Step 7: Make predictions on the test set\n",
    "predicted = text_clf.predict(X_test)\n",
    "\n",
    "# Step 8: Evaluate the classifier performance\n",
    "accuracy = accuracy_score(y_test, predicted)\n",
    "print(f\"Accuracy: {accuracy}\")\n",
    "print(\"Classification Report:\")\n",
    "print(classification_report(y_test, predicted))\n",
    "\n",
    "# Step 9: Example of classifying new text (phishing or spam detection)\n",
    "new_texts = [\n",
    "    \"Congratulations! You've won a free iPhone. Click here to claim your prize.\",\n",
    "    \"Hello, let's catch up for coffee sometime this weekend!\"\n",
    "]\n",
    "new_predictions = text_clf.predict(new_texts)\n",
    "\n",
    "for text, prediction in zip(new_texts, new_predictions):\n",
    "    print(f\"Text: {text}\")\n",
    "    print(f\"Prediction: {'Spam' if prediction == 1 else 'Ham'}\\n\")\n",
    "\n",
    "# Step 10: Save the model only if accuracy is acceptable\n",
    "if accuracy > 0.90:\n",
    "    model_path = r\"C:\\Users\\Dharshii\\OneDrive\\Desktop\\samp\\backend\\spam_classifier.pkl\"\n",
    "    joblib.dump(text_clf, model_path)\n",
    "    print(f\"✅ Model trained and saved at {model_path}\")\n",
    "else:\n",
    "    print(\"⚠️ Model accuracy is too low. Consider improving the dataset or tuning hyperparameters.\")\n",
    "\n"
   ]
  }
 ],
 "metadata": {
  "kernelspec": {
   "display_name": "Python 3",
   "language": "python",
   "name": "python3"
  },
  "language_info": {
   "codemirror_mode": {
    "name": "ipython",
    "version": 3
   },
   "file_extension": ".py",
   "mimetype": "text/x-python",
   "name": "python",
   "nbconvert_exporter": "python",
   "pygments_lexer": "ipython3",
   "version": "3.12.6"
  }
 },
 "nbformat": 4,
 "nbformat_minor": 2
}
